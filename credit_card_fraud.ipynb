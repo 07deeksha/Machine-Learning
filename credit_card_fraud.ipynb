{
  "cells": [
    {
      "cell_type": "markdown",
      "metadata": {
        "id": "view-in-github",
        "colab_type": "text"
      },
      "source": [
        "<a href=\"https://colab.research.google.com/github/07deeksha/Machine-Learning/blob/main/credit_card_fraud.ipynb\" target=\"_parent\"><img src=\"https://colab.research.google.com/assets/colab-badge.svg\" alt=\"Open In Colab\"/></a>"
      ]
    },
    {
      "cell_type": "markdown",
      "id": "d7ce8352",
      "metadata": {
        "id": "d7ce8352"
      },
      "source": [
        "## Credit Card Fraud Detection Project"
      ]
    },
    {
      "cell_type": "code",
      "execution_count": null,
      "id": "8aacd0a9",
      "metadata": {
        "id": "8aacd0a9"
      },
      "outputs": [],
      "source": [
        "# Import the necessary modules\n",
        "\n",
        "import numpy as np\n",
        "import pandas as pd\n",
        "import matplotlib.pyplot as plt\n",
        "from collections import Counter\n",
        "import itertools\n",
        "\n",
        "from sklearn.preprocessing import StandardScaler\n",
        "from sklearn.model_selection import train_test_split\n",
        "from sklearn.ensemble import RandomForestClassifier\n",
        "from sklearn.tree import DecisionTreeClassifier\n",
        "from sklearn.linear_model import LogisticRegression\n",
        "from sklearn.preprocessing import MinMaxScaler\n",
        "from sklearn.cluster import KMeans\n",
        "from sklearn.metrics import accuracy_score, precision_score, confusion_matrix, recall_score, f1_score"
      ]
    },
    {
      "cell_type": "code",
      "execution_count": null,
      "id": "aa0dca6f",
      "metadata": {
        "id": "aa0dca6f",
        "outputId": "52be0027-551b-4be4-c7ee-b1c8fd45339f",
        "colab": {
          "base_uri": "https://localhost:8080/",
          "height": 317
        }
      },
      "outputs": [
        {
          "output_type": "execute_result",
          "data": {
            "text/plain": [
              "   Unnamed: 0  Time        V1        V2        V3        V4        V5  \\\n",
              "0           0    64  1.212511 -0.099054 -1.192094  0.286324  2.160516   \n",
              "1           1    64 -0.658305  0.406791  2.037461 -0.291298  0.147910   \n",
              "2           2   124  1.105253  0.541842  0.839421  2.570933 -0.279517   \n",
              "3           3   128  1.239495 -0.182609  0.155058 -0.928892 -0.746227   \n",
              "4           4   132 -1.571359  1.687508  0.734670  1.293350 -0.217532   \n",
              "\n",
              "         V6        V7        V8  ...       V21       V22       V23       V24  \\\n",
              "0  3.616314 -0.404207  0.842331  ... -0.167496 -0.494695 -0.149785  1.011227   \n",
              "1 -0.350857  0.945373 -0.172560  ... -0.156096 -0.238805  0.089877  0.421195   \n",
              "2 -0.423062  0.088019  0.011622  ... -0.137434 -0.460991  0.189397  0.556329   \n",
              "3 -1.235608 -0.061695 -0.125223  ...  0.146077  0.481119 -0.140019  0.538261   \n",
              "4 -0.002677  0.147364  0.515362  ...  0.048549  0.377256 -0.030436  0.117608   \n",
              "\n",
              "        V25       V26       V27       V28  Amount  Class  \n",
              "0  0.883548 -0.329434  0.020370  0.017037   34.70      0  \n",
              "1 -0.352487  0.074783 -0.094192 -0.092493   54.99      0  \n",
              "2  0.185786 -0.189030  0.000208  0.026167    6.24      0  \n",
              "3  0.710720 -0.621382  0.036867  0.010963    8.80      0  \n",
              "4 -0.060520 -0.296550 -0.481570 -0.167897   10.00      0  \n",
              "\n",
              "[5 rows x 32 columns]"
            ],
            "text/html": [
              "\n",
              "  <div id=\"df-ae9f5fe5-0e21-4961-a77a-564820ef7176\">\n",
              "    <div class=\"colab-df-container\">\n",
              "      <div>\n",
              "<style scoped>\n",
              "    .dataframe tbody tr th:only-of-type {\n",
              "        vertical-align: middle;\n",
              "    }\n",
              "\n",
              "    .dataframe tbody tr th {\n",
              "        vertical-align: top;\n",
              "    }\n",
              "\n",
              "    .dataframe thead th {\n",
              "        text-align: right;\n",
              "    }\n",
              "</style>\n",
              "<table border=\"1\" class=\"dataframe\">\n",
              "  <thead>\n",
              "    <tr style=\"text-align: right;\">\n",
              "      <th></th>\n",
              "      <th>Unnamed: 0</th>\n",
              "      <th>Time</th>\n",
              "      <th>V1</th>\n",
              "      <th>V2</th>\n",
              "      <th>V3</th>\n",
              "      <th>V4</th>\n",
              "      <th>V5</th>\n",
              "      <th>V6</th>\n",
              "      <th>V7</th>\n",
              "      <th>V8</th>\n",
              "      <th>...</th>\n",
              "      <th>V21</th>\n",
              "      <th>V22</th>\n",
              "      <th>V23</th>\n",
              "      <th>V24</th>\n",
              "      <th>V25</th>\n",
              "      <th>V26</th>\n",
              "      <th>V27</th>\n",
              "      <th>V28</th>\n",
              "      <th>Amount</th>\n",
              "      <th>Class</th>\n",
              "    </tr>\n",
              "  </thead>\n",
              "  <tbody>\n",
              "    <tr>\n",
              "      <th>0</th>\n",
              "      <td>0</td>\n",
              "      <td>64</td>\n",
              "      <td>1.212511</td>\n",
              "      <td>-0.099054</td>\n",
              "      <td>-1.192094</td>\n",
              "      <td>0.286324</td>\n",
              "      <td>2.160516</td>\n",
              "      <td>3.616314</td>\n",
              "      <td>-0.404207</td>\n",
              "      <td>0.842331</td>\n",
              "      <td>...</td>\n",
              "      <td>-0.167496</td>\n",
              "      <td>-0.494695</td>\n",
              "      <td>-0.149785</td>\n",
              "      <td>1.011227</td>\n",
              "      <td>0.883548</td>\n",
              "      <td>-0.329434</td>\n",
              "      <td>0.020370</td>\n",
              "      <td>0.017037</td>\n",
              "      <td>34.70</td>\n",
              "      <td>0</td>\n",
              "    </tr>\n",
              "    <tr>\n",
              "      <th>1</th>\n",
              "      <td>1</td>\n",
              "      <td>64</td>\n",
              "      <td>-0.658305</td>\n",
              "      <td>0.406791</td>\n",
              "      <td>2.037461</td>\n",
              "      <td>-0.291298</td>\n",
              "      <td>0.147910</td>\n",
              "      <td>-0.350857</td>\n",
              "      <td>0.945373</td>\n",
              "      <td>-0.172560</td>\n",
              "      <td>...</td>\n",
              "      <td>-0.156096</td>\n",
              "      <td>-0.238805</td>\n",
              "      <td>0.089877</td>\n",
              "      <td>0.421195</td>\n",
              "      <td>-0.352487</td>\n",
              "      <td>0.074783</td>\n",
              "      <td>-0.094192</td>\n",
              "      <td>-0.092493</td>\n",
              "      <td>54.99</td>\n",
              "      <td>0</td>\n",
              "    </tr>\n",
              "    <tr>\n",
              "      <th>2</th>\n",
              "      <td>2</td>\n",
              "      <td>124</td>\n",
              "      <td>1.105253</td>\n",
              "      <td>0.541842</td>\n",
              "      <td>0.839421</td>\n",
              "      <td>2.570933</td>\n",
              "      <td>-0.279517</td>\n",
              "      <td>-0.423062</td>\n",
              "      <td>0.088019</td>\n",
              "      <td>0.011622</td>\n",
              "      <td>...</td>\n",
              "      <td>-0.137434</td>\n",
              "      <td>-0.460991</td>\n",
              "      <td>0.189397</td>\n",
              "      <td>0.556329</td>\n",
              "      <td>0.185786</td>\n",
              "      <td>-0.189030</td>\n",
              "      <td>0.000208</td>\n",
              "      <td>0.026167</td>\n",
              "      <td>6.24</td>\n",
              "      <td>0</td>\n",
              "    </tr>\n",
              "    <tr>\n",
              "      <th>3</th>\n",
              "      <td>3</td>\n",
              "      <td>128</td>\n",
              "      <td>1.239495</td>\n",
              "      <td>-0.182609</td>\n",
              "      <td>0.155058</td>\n",
              "      <td>-0.928892</td>\n",
              "      <td>-0.746227</td>\n",
              "      <td>-1.235608</td>\n",
              "      <td>-0.061695</td>\n",
              "      <td>-0.125223</td>\n",
              "      <td>...</td>\n",
              "      <td>0.146077</td>\n",
              "      <td>0.481119</td>\n",
              "      <td>-0.140019</td>\n",
              "      <td>0.538261</td>\n",
              "      <td>0.710720</td>\n",
              "      <td>-0.621382</td>\n",
              "      <td>0.036867</td>\n",
              "      <td>0.010963</td>\n",
              "      <td>8.80</td>\n",
              "      <td>0</td>\n",
              "    </tr>\n",
              "    <tr>\n",
              "      <th>4</th>\n",
              "      <td>4</td>\n",
              "      <td>132</td>\n",
              "      <td>-1.571359</td>\n",
              "      <td>1.687508</td>\n",
              "      <td>0.734670</td>\n",
              "      <td>1.293350</td>\n",
              "      <td>-0.217532</td>\n",
              "      <td>-0.002677</td>\n",
              "      <td>0.147364</td>\n",
              "      <td>0.515362</td>\n",
              "      <td>...</td>\n",
              "      <td>0.048549</td>\n",
              "      <td>0.377256</td>\n",
              "      <td>-0.030436</td>\n",
              "      <td>0.117608</td>\n",
              "      <td>-0.060520</td>\n",
              "      <td>-0.296550</td>\n",
              "      <td>-0.481570</td>\n",
              "      <td>-0.167897</td>\n",
              "      <td>10.00</td>\n",
              "      <td>0</td>\n",
              "    </tr>\n",
              "  </tbody>\n",
              "</table>\n",
              "<p>5 rows × 32 columns</p>\n",
              "</div>\n",
              "      <button class=\"colab-df-convert\" onclick=\"convertToInteractive('df-ae9f5fe5-0e21-4961-a77a-564820ef7176')\"\n",
              "              title=\"Convert this dataframe to an interactive table.\"\n",
              "              style=\"display:none;\">\n",
              "        \n",
              "  <svg xmlns=\"http://www.w3.org/2000/svg\" height=\"24px\"viewBox=\"0 0 24 24\"\n",
              "       width=\"24px\">\n",
              "    <path d=\"M0 0h24v24H0V0z\" fill=\"none\"/>\n",
              "    <path d=\"M18.56 5.44l.94 2.06.94-2.06 2.06-.94-2.06-.94-.94-2.06-.94 2.06-2.06.94zm-11 1L8.5 8.5l.94-2.06 2.06-.94-2.06-.94L8.5 2.5l-.94 2.06-2.06.94zm10 10l.94 2.06.94-2.06 2.06-.94-2.06-.94-.94-2.06-.94 2.06-2.06.94z\"/><path d=\"M17.41 7.96l-1.37-1.37c-.4-.4-.92-.59-1.43-.59-.52 0-1.04.2-1.43.59L10.3 9.45l-7.72 7.72c-.78.78-.78 2.05 0 2.83L4 21.41c.39.39.9.59 1.41.59.51 0 1.02-.2 1.41-.59l7.78-7.78 2.81-2.81c.8-.78.8-2.07 0-2.86zM5.41 20L4 18.59l7.72-7.72 1.47 1.35L5.41 20z\"/>\n",
              "  </svg>\n",
              "      </button>\n",
              "      \n",
              "  <style>\n",
              "    .colab-df-container {\n",
              "      display:flex;\n",
              "      flex-wrap:wrap;\n",
              "      gap: 12px;\n",
              "    }\n",
              "\n",
              "    .colab-df-convert {\n",
              "      background-color: #E8F0FE;\n",
              "      border: none;\n",
              "      border-radius: 50%;\n",
              "      cursor: pointer;\n",
              "      display: none;\n",
              "      fill: #1967D2;\n",
              "      height: 32px;\n",
              "      padding: 0 0 0 0;\n",
              "      width: 32px;\n",
              "    }\n",
              "\n",
              "    .colab-df-convert:hover {\n",
              "      background-color: #E2EBFA;\n",
              "      box-shadow: 0px 1px 2px rgba(60, 64, 67, 0.3), 0px 1px 3px 1px rgba(60, 64, 67, 0.15);\n",
              "      fill: #174EA6;\n",
              "    }\n",
              "\n",
              "    [theme=dark] .colab-df-convert {\n",
              "      background-color: #3B4455;\n",
              "      fill: #D2E3FC;\n",
              "    }\n",
              "\n",
              "    [theme=dark] .colab-df-convert:hover {\n",
              "      background-color: #434B5C;\n",
              "      box-shadow: 0px 1px 3px 1px rgba(0, 0, 0, 0.15);\n",
              "      filter: drop-shadow(0px 1px 2px rgba(0, 0, 0, 0.3));\n",
              "      fill: #FFFFFF;\n",
              "    }\n",
              "  </style>\n",
              "\n",
              "      <script>\n",
              "        const buttonEl =\n",
              "          document.querySelector('#df-ae9f5fe5-0e21-4961-a77a-564820ef7176 button.colab-df-convert');\n",
              "        buttonEl.style.display =\n",
              "          google.colab.kernel.accessAllowed ? 'block' : 'none';\n",
              "\n",
              "        async function convertToInteractive(key) {\n",
              "          const element = document.querySelector('#df-ae9f5fe5-0e21-4961-a77a-564820ef7176');\n",
              "          const dataTable =\n",
              "            await google.colab.kernel.invokeFunction('convertToInteractive',\n",
              "                                                     [key], {});\n",
              "          if (!dataTable) return;\n",
              "\n",
              "          const docLinkHtml = 'Like what you see? Visit the ' +\n",
              "            '<a target=\"_blank\" href=https://colab.research.google.com/notebooks/data_table.ipynb>data table notebook</a>'\n",
              "            + ' to learn more about interactive tables.';\n",
              "          element.innerHTML = '';\n",
              "          dataTable['output_type'] = 'display_data';\n",
              "          await google.colab.output.renderOutput(dataTable, element);\n",
              "          const docLink = document.createElement('div');\n",
              "          docLink.innerHTML = docLinkHtml;\n",
              "          element.appendChild(docLink);\n",
              "        }\n",
              "      </script>\n",
              "    </div>\n",
              "  </div>\n",
              "  "
            ]
          },
          "metadata": {},
          "execution_count": 3
        }
      ],
      "source": [
        "# Load the csv file\n",
        "\n",
        "dataframe = pd.read_csv(\"/content/creditcard_sampledata.csv\")\n",
        "dataframe.head()"
      ]
    },
    {
      "cell_type": "markdown",
      "id": "063a8acc",
      "metadata": {
        "id": "063a8acc"
      },
      "source": [
        "### Performing Exploratory Data Analysis"
      ]
    },
    {
      "cell_type": "code",
      "execution_count": null,
      "id": "23e4756b",
      "metadata": {
        "id": "23e4756b",
        "outputId": "f6a6b6aa-31b9-4521-c954-519a17710828",
        "colab": {
          "base_uri": "https://localhost:8080/"
        }
      },
      "outputs": [
        {
          "output_type": "stream",
          "name": "stdout",
          "text": [
            "<class 'pandas.core.frame.DataFrame'>\n",
            "RangeIndex: 8000 entries, 0 to 7999\n",
            "Data columns (total 32 columns):\n",
            " #   Column      Non-Null Count  Dtype  \n",
            "---  ------      --------------  -----  \n",
            " 0   Unnamed: 0  8000 non-null   int64  \n",
            " 1   Time        8000 non-null   int64  \n",
            " 2   V1          8000 non-null   float64\n",
            " 3   V2          8000 non-null   float64\n",
            " 4   V3          8000 non-null   float64\n",
            " 5   V4          8000 non-null   float64\n",
            " 6   V5          8000 non-null   float64\n",
            " 7   V6          8000 non-null   float64\n",
            " 8   V7          8000 non-null   float64\n",
            " 9   V8          8000 non-null   float64\n",
            " 10  V9          8000 non-null   float64\n",
            " 11  V10         8000 non-null   float64\n",
            " 12  V11         8000 non-null   float64\n",
            " 13  V12         8000 non-null   float64\n",
            " 14  V13         8000 non-null   float64\n",
            " 15  V14         8000 non-null   float64\n",
            " 16  V15         8000 non-null   float64\n",
            " 17  V16         8000 non-null   float64\n",
            " 18  V17         8000 non-null   float64\n",
            " 19  V18         8000 non-null   float64\n",
            " 20  V19         8000 non-null   float64\n",
            " 21  V20         8000 non-null   float64\n",
            " 22  V21         8000 non-null   float64\n",
            " 23  V22         8000 non-null   float64\n",
            " 24  V23         8000 non-null   float64\n",
            " 25  V24         8000 non-null   float64\n",
            " 26  V25         8000 non-null   float64\n",
            " 27  V26         8000 non-null   float64\n",
            " 28  V27         8000 non-null   float64\n",
            " 29  V28         8000 non-null   float64\n",
            " 30  Amount      8000 non-null   float64\n",
            " 31  Class       8000 non-null   int64  \n",
            "dtypes: float64(29), int64(3)\n",
            "memory usage: 2.0 MB\n"
          ]
        }
      ],
      "source": [
        "dataframe.info()"
      ]
    },
    {
      "cell_type": "code",
      "execution_count": null,
      "id": "3a684d95",
      "metadata": {
        "id": "3a684d95",
        "outputId": "1f00117b-b66e-459b-a7a5-4398a157669b",
        "colab": {
          "base_uri": "https://localhost:8080/"
        }
      },
      "outputs": [
        {
          "output_type": "execute_result",
          "data": {
            "text/plain": [
              "False"
            ]
          },
          "metadata": {},
          "execution_count": 5
        }
      ],
      "source": [
        "# Check for null values\n",
        "\n",
        "dataframe.isnull().values.any()"
      ]
    },
    {
      "cell_type": "code",
      "execution_count": null,
      "id": "109a3031",
      "metadata": {
        "id": "109a3031",
        "outputId": "77329819-a9ce-4b10-c255-c5d5eb058be9",
        "colab": {
          "base_uri": "https://localhost:8080/"
        }
      },
      "outputs": [
        {
          "output_type": "execute_result",
          "data": {
            "text/plain": [
              "count     8000.000000\n",
              "mean        89.669246\n",
              "std        260.188804\n",
              "min          0.000000\n",
              "25%          5.990000\n",
              "50%         22.855000\n",
              "75%         78.432500\n",
              "max      10199.440000\n",
              "Name: Amount, dtype: float64"
            ]
          },
          "metadata": {},
          "execution_count": 6
        }
      ],
      "source": [
        "dataframe[\"Amount\"].describe()"
      ]
    },
    {
      "cell_type": "code",
      "execution_count": null,
      "id": "009b1c38",
      "metadata": {
        "id": "009b1c38",
        "outputId": "568b6b15-dff7-4a4f-8a42-0b33f2f0e370",
        "colab": {
          "base_uri": "https://localhost:8080/"
        }
      },
      "outputs": [
        {
          "output_type": "stream",
          "name": "stdout",
          "text": [
            "Number of Genuine transactions:  7983\n",
            "Number of Fraudaulent transactions:  17\n",
            "Percentage of Fraud transactions: 0.2125\n"
          ]
        }
      ],
      "source": [
        "non_fraud = len(dataframe[dataframe.Class == 0])\n",
        "fraud = len(dataframe[dataframe.Class == 1])\n",
        "fraud_percent = (fraud / (fraud + non_fraud)) * 100\n",
        "\n",
        "print(\"Number of Genuine transactions: \", non_fraud)\n",
        "print(\"Number of Fraudaulent transactions: \", fraud)\n",
        "print(\"Percentage of Fraud transactions: {:.4f}\".format(fraud_percent))"
      ]
    },
    {
      "cell_type": "code",
      "execution_count": null,
      "id": "95fd441a",
      "metadata": {
        "id": "95fd441a",
        "outputId": "006985c0-8d87-4901-f9ce-7393a5ac9c87",
        "colab": {
          "base_uri": "https://localhost:8080/",
          "height": 472
        }
      },
      "outputs": [
        {
          "output_type": "display_data",
          "data": {
            "text/plain": [
              "<Figure size 640x480 with 1 Axes>"
            ],
            "image/png": "[encoded data removed]"
          },
          "metadata": {}
        }
      ],
      "source": [
        "# Visualize the \"Labels\" column in our dataset\n",
        "\n",
        "labels = [\"Genuine\", \"Fraud\"]\n",
        "count_classes = dataframe.value_counts(dataframe['Class'], sort= True)\n",
        "count_classes.plot(kind = \"bar\", rot = 0)\n",
        "plt.title(\"Visualization of Labels\")\n",
        "plt.ylabel(\"Count\")\n",
        "plt.xticks(range(2), labels)\n",
        "plt.show()"
      ]
    },
    {
      "cell_type": "code",
      "execution_count": null,
      "id": "0c17ab9b",
      "metadata": {
        "id": "0c17ab9b"
      },
      "outputs": [],
      "source": [
        "# Perform Scaling\n",
        "scaler = StandardScaler()\n",
        "dataframe[\"NormalizedAmount\"] = scaler.fit_transform(dataframe[\"Amount\"].values.reshape(-1, 1))\n",
        "dataframe.drop([\"Amount\", \"Time\"], inplace= True, axis= 1)\n",
        "\n",
        "Y = dataframe[\"Class\"]\n",
        "X = dataframe.drop([\"Class\"], axis= 1)"
      ]
    },
    {
      "cell_type": "code",
      "execution_count": null,
      "id": "f3f75251",
      "metadata": {
        "id": "f3f75251",
        "outputId": "0777390e-bcb0-44e9-b316-113ef890c85a",
        "colab": {
          "base_uri": "https://localhost:8080/"
        }
      },
      "outputs": [
        {
          "output_type": "execute_result",
          "data": {
            "text/plain": [
              "0    0\n",
              "1    0\n",
              "2    0\n",
              "3    0\n",
              "4    0\n",
              "Name: Class, dtype: int64"
            ]
          },
          "metadata": {},
          "execution_count": 10
        }
      ],
      "source": [
        "Y.head()"
      ]
    },
    {
      "cell_type": "code",
      "execution_count": null,
      "id": "08d72aae",
      "metadata": {
        "id": "08d72aae",
        "outputId": "23bf1d3c-11f9-4e49-ab26-e98393a86c6e",
        "colab": {
          "base_uri": "https://localhost:8080/"
        }
      },
      "outputs": [
        {
          "output_type": "stream",
          "name": "stdout",
          "text": [
            "Shape of train_X:  (5600, 30)\n",
            "Shape of test_X:  (2400, 30)\n"
          ]
        }
      ],
      "source": [
        "# Split the data\n",
        "(train_X, test_X, train_Y, test_Y) = train_test_split(X, Y, test_size= 0.3, random_state= 42)\n",
        "\n",
        "print(\"Shape of train_X: \", train_X.shape)\n",
        "print(\"Shape of test_X: \", test_X.shape)"
      ]
    },
    {
      "cell_type": "markdown",
      "id": "96deee6b",
      "metadata": {
        "id": "96deee6b"
      },
      "source": [
        "Let's train different models on our dataset and observe which algorithm works better for our problem.\n",
        "\n",
        "Let's apply Random Forests, Decision Trees, Logistic Regression, K-Means Clustering algorithms to our dataset."
      ]
    },
    {
      "cell_type": "code",
      "execution_count": null,
      "id": "2ec9ab7e",
      "metadata": {
        "id": "2ec9ab7e"
      },
      "outputs": [],
      "source": [
        "# Decision Tree Classifier\n",
        "decision_tree = DecisionTreeClassifier()\n",
        "decision_tree.fit(train_X, train_Y)\n",
        "\n",
        "predictions_dt = decision_tree.predict(test_X)\n",
        "decision_tree_score = decision_tree.score(test_X, test_Y) * 100"
      ]
    },
    {
      "cell_type": "code",
      "execution_count": null,
      "id": "6a6d33ea",
      "metadata": {
        "id": "6a6d33ea"
      },
      "outputs": [],
      "source": [
        "# Random Forest\n",
        "random_forest = RandomForestClassifier(n_estimators= 100)\n",
        "random_forest.fit(train_X, train_Y)\n",
        "\n",
        "predictions_rf = random_forest.predict(test_X)\n",
        "random_forest_score = random_forest.score(test_X, test_Y) * 100"
      ]
    },
    {
      "cell_type": "code",
      "source": [
        "# Logistic Regression\n",
        "log_reg = LogisticRegression(solver='liblinear')\n",
        "log_reg.fit(train_X, train_Y)\n",
        "LogisticRegression(solver='liblinear')\n",
        "\n",
        "predictions_lr = log_reg.predict(test_X)\n",
        "logistic_reg_score = log_reg.score(test_X, test_Y) * 100"
      ],
      "metadata": {
        "id": "QaZDkazjQEYD"
      },
      "id": "QaZDkazjQEYD",
      "execution_count": null,
      "outputs": []
    },
    {
      "cell_type": "code",
      "execution_count": null,
      "id": "268379be",
      "metadata": {
        "id": "268379be",
        "outputId": "70cff9c6-2ccd-41ee-a38a-37e963b8aa98",
        "colab": {
          "base_uri": "https://localhost:8080/"
        }
      },
      "outputs": [
        {
          "output_type": "stream",
          "name": "stdout",
          "text": [
            "Random Forest Score:  99.91666666666667\n",
            "Decision Tree Score:  99.70833333333333\n",
            "Logistic Regression Score:  99.91666666666667\n"
          ]
        }
      ],
      "source": [
        "# Print scores of our classifiers\n",
        "\n",
        "print(\"Random Forest Score: \", random_forest_score)\n",
        "print(\"Decision Tree Score: \", decision_tree_score)\n",
        "print(\"Logistic Regression Score: \", logistic_reg_score)"
      ]
    },
    {
      "cell_type": "code",
      "execution_count": null,
      "id": "adf6ead7",
      "metadata": {
        "id": "adf6ead7"
      },
      "outputs": [],
      "source": [
        "# The below function is directly taken from the scikit-learn website to plot the confusion matrix\n",
        "\n",
        "def plot_confusion_matrix(cm, classes, normalize=False, title='Confusion Matrix', cmap=plt.cm.Blues):\n",
        "    \"\"\"\n",
        "    This function prints and plots the confusion matrix.\n",
        "    Normalization can be applied by setting `normalize=True`.\n",
        "    \"\"\"\n",
        "    if normalize:\n",
        "        cm = cm.astype('float') / cm.sum(axis=1)[:, np.newaxis]\n",
        "        print(\"Normalized confusion matrix\")\n",
        "    else:\n",
        "        print('Confusion matrix, without normalization')\n",
        "\n",
        "    plt.imshow(cm, interpolation='nearest', cmap=cmap)\n",
        "    plt.title(title)\n",
        "    plt.colorbar()\n",
        "    tick_marks = np.arange(len(classes))\n",
        "    plt.xticks(tick_marks, classes, rotation=0)\n",
        "    plt.yticks(tick_marks, classes)\n",
        "\n",
        "    fmt = '.2f' if normalize else 'd'\n",
        "    thresh = cm.max() / 2.\n",
        "    for i, j in itertools.product(range(cm.shape[0]), range(cm.shape[1])):\n",
        "        plt.text(j, i, format(cm[i, j], fmt), horizontalalignment=\"center\", color=\"white\" if cm[i, j] > thresh else \"black\")\n",
        "\n",
        "    plt.ylabel('True label')\n",
        "    plt.xlabel('Predicted label')\n",
        "    plt.tight_layout()\n",
        "\n"
      ]
    },
    {
      "cell_type": "code",
      "execution_count": null,
      "id": "0cc73768",
      "metadata": {
        "id": "0cc73768",
        "outputId": "38c771fa-7015-4ac0-c8c7-8823d90e4b89",
        "colab": {
          "base_uri": "https://localhost:8080/"
        }
      },
      "outputs": [
        {
          "output_type": "stream",
          "name": "stdout",
          "text": [
            "Confusion Matrix - Decision Tree\n",
            "[[2393    6]\n",
            " [   1    0]]\n"
          ]
        }
      ],
      "source": [
        "# Plot confusion matrix for Decision Trees\n",
        "\n",
        "confusion_matrix_dt = confusion_matrix(test_Y, predictions_dt.round())\n",
        "print(\"Confusion Matrix - Decision Tree\")\n",
        "print(confusion_matrix_dt)"
      ]
    },
    {
      "cell_type": "code",
      "execution_count": null,
      "id": "6f6d3027",
      "metadata": {
        "id": "6f6d3027",
        "outputId": "bfbe398f-1f34-4bed-da6e-5a7eb5e0041a",
        "colab": {
          "base_uri": "https://localhost:8080/",
          "height": 504
        }
      },
      "outputs": [
        {
          "output_type": "stream",
          "name": "stdout",
          "text": [
            "Confusion matrix, without normalization\n"
          ]
        },
        {
          "output_type": "display_data",
          "data": {
            "text/plain": [
              "<Figure size 640x480 with 2 Axes>"
            ],
            "image/png": "[encoded data removed]"
          },
          "metadata": {}
        }
      ],
      "source": [
        "plot_confusion_matrix(confusion_matrix_dt, classes=[0, 1], title= \"Confusion Matrix - Decision Tree\")"
      ]
    },
    {
      "cell_type": "code",
      "execution_count": null,
      "id": "07c23d0a",
      "metadata": {
        "id": "07c23d0a",
        "outputId": "d36c95a9-9c74-4617-8bc0-8bb62090a181",
        "colab": {
          "base_uri": "https://localhost:8080/"
        }
      },
      "outputs": [
        {
          "output_type": "stream",
          "name": "stdout",
          "text": [
            "Confusion Matrix - Random Forest\n",
            "[[2397    2]\n",
            " [   0    1]]\n"
          ]
        }
      ],
      "source": [
        "# Plot confusion matrix for Random Forests\n",
        "\n",
        "confusion_matrix_rf = confusion_matrix(test_Y, predictions_rf.round())\n",
        "print(\"Confusion Matrix - Random Forest\")\n",
        "print(confusion_matrix_rf)"
      ]
    },
    {
      "cell_type": "code",
      "execution_count": null,
      "id": "65f9da07",
      "metadata": {
        "id": "65f9da07",
        "outputId": "10788eee-2de7-4034-cd33-9a9bc945a3e9",
        "colab": {
          "base_uri": "https://localhost:8080/",
          "height": 504
        }
      },
      "outputs": [
        {
          "output_type": "stream",
          "name": "stdout",
          "text": [
            "Confusion matrix, without normalization\n"
          ]
        },
        {
          "output_type": "display_data",
          "data": {
            "text/plain": [
              "<Figure size 640x480 with 2 Axes>"
            ],
            "image/png": "[encoded data removed]"
          },
          "metadata": {}
        }
      ],
      "source": [
        "plot_confusion_matrix(confusion_matrix_rf, classes=[0, 1], title= \"Confusion Matrix - Random Forest\")"
      ]
    },
    {
      "cell_type": "code",
      "source": [
        "# Plot confusion matrix for Logistic Regression\n",
        "\n",
        "confusion_matrix_lr = confusion_matrix(test_Y, predictions_lr.round())\n",
        "print(\"Confusion Matrix - Logistic Regression\")\n",
        "print(confusion_matrix_lr)"
      ],
      "metadata": {
        "id": "et9Q82bIRlil",
        "colab": {
          "base_uri": "https://localhost:8080/"
        },
        "outputId": "9654ac35-318b-4fcb-b4e5-f59386abb633"
      },
      "id": "et9Q82bIRlil",
      "execution_count": null,
      "outputs": [
        {
          "output_type": "stream",
          "name": "stdout",
          "text": [
            "Confusion Matrix - Logistic Regression\n",
            "[[2398    1]\n",
            " [   1    0]]\n"
          ]
        }
      ]
    },
    {
      "cell_type": "code",
      "source": [
        "plot_confusion_matrix(confusion_matrix_lr, classes=[0, 1], title= \"Confusion Matrix - Logistic Regression\")"
      ],
      "metadata": {
        "id": "Cd5rI3lPRycd",
        "colab": {
          "base_uri": "https://localhost:8080/",
          "height": 504
        },
        "outputId": "90c7f34a-3f56-4ec2-914a-bd72a30f982f"
      },
      "id": "Cd5rI3lPRycd",
      "execution_count": null,
      "outputs": [
        {
          "output_type": "stream",
          "name": "stdout",
          "text": [
            "Confusion matrix, without normalization\n"
          ]
        },
        {
          "output_type": "display_data",
          "data": {
            "text/plain": [
              "<Figure size 640x480 with 2 Axes>"
            ],
            "image/png": "[encoded data removed]"
          },
          "metadata": {}
        }
      ]
    },
    {
      "cell_type": "code",
      "execution_count": null,
      "id": "5246baf8",
      "metadata": {
        "id": "5246baf8"
      },
      "outputs": [],
      "source": [
        "# The below function will print the following necesary metrics\n",
        "\n",
        "def metrics(actuals, predictions):\n",
        "    print(\"Accuracy: {:.5f}\".format(accuracy_score(actuals, predictions)))\n",
        "    print(\"Precision: {:.5f}\".format(precision_score(actuals, predictions)))\n",
        "    print(\"Recall: {:.5f}\".format(recall_score(actuals, predictions)))\n",
        "    print(\"F1-score: {:.5f}\".format(f1_score(actuals, predictions)))"
      ]
    },
    {
      "cell_type": "code",
      "execution_count": null,
      "id": "cb45ff83",
      "metadata": {
        "id": "cb45ff83",
        "outputId": "f804a076-1fb2-4d05-b85a-a73d854604ac",
        "colab": {
          "base_uri": "https://localhost:8080/"
        }
      },
      "outputs": [
        {
          "output_type": "stream",
          "name": "stdout",
          "text": [
            "Evaluation of Decision Tree Model\n",
            "\n",
            "Accuracy: 0.99708\n",
            "Precision: 0.00000\n",
            "Recall: 0.00000\n",
            "F1-score: 0.00000\n"
          ]
        }
      ],
      "source": [
        "print(\"Evaluation of Decision Tree Model\")\n",
        "print()\n",
        "metrics(test_Y, predictions_dt.round())"
      ]
    },
    {
      "cell_type": "code",
      "execution_count": null,
      "id": "fb90440b",
      "metadata": {
        "id": "fb90440b",
        "outputId": "e0fbbd1c-7f17-46d0-c875-c51bbb24d3c6",
        "colab": {
          "base_uri": "https://localhost:8080/"
        }
      },
      "outputs": [
        {
          "output_type": "stream",
          "name": "stdout",
          "text": [
            "Evaluation of Random Forest Model\n",
            "\n",
            "Accuracy: 0.99917\n",
            "Precision: 0.33333\n",
            "Recall: 1.00000\n",
            "F1-score: 0.50000\n"
          ]
        }
      ],
      "source": [
        "print(\"Evaluation of Random Forest Model\")\n",
        "print()\n",
        "metrics(test_Y, predictions_rf.round())"
      ]
    },
    {
      "cell_type": "code",
      "source": [
        "print(\"Evaluation of Logistic Regression\")\n",
        "print()\n",
        "metrics(test_Y, predictions_lr.round())"
      ],
      "metadata": {
        "colab": {
          "base_uri": "https://localhost:8080/"
        },
        "id": "ekbZz4YrPRus",
        "outputId": "11b3a253-6108-441c-f701-c1382c26d365"
      },
      "id": "ekbZz4YrPRus",
      "execution_count": null,
      "outputs": [
        {
          "output_type": "stream",
          "name": "stdout",
          "text": [
            "Evaluation of Logistic Regression\n",
            "\n",
            "Accuracy: 0.99917\n",
            "Precision: 0.00000\n",
            "Recall: 0.00000\n",
            "F1-score: 0.00000\n"
          ]
        }
      ]
    },
    {
      "cell_type": "markdown",
      "id": "0f441902",
      "metadata": {
        "id": "0f441902"
      },
      "source": [
        "By clearly observing the dataset, it can be concluded that it suffers a serious problem of **class imbalance**.\n",
        "The genuine (not fraud) transactions are more than 99% with the fraud transactions constituting of 0.17%.\n",
        "\n",
        "With such kind of distribution, if we train our model without taking care of the imbalance issues, it predicts the label with higher importance given to genuine transactions (as there are more data about them) and hence obtains more accuracy."
      ]
    },
    {
      "cell_type": "markdown",
      "id": "e636cb0d",
      "metadata": {
        "id": "e636cb0d"
      },
      "source": [
        "The class imbalance problem can be solved by various techniques. **Over sampling** is one of them.\n",
        "\n",
        "One approach to addressing imbalanced datasets is to oversample the minority class. The simplest approach involves duplicating examples in the minority class, although these examples don’t add any new information to the model.\n",
        "\n",
        "Instead, new examples can be synthesized from the existing examples. This is a type of data augmentation for the minority class and is referred to as the **Synthetic Minority Oversampling Technique**, or **SMOTE** for short."
      ]
    },
    {
      "cell_type": "code",
      "execution_count": null,
      "id": "99cae818",
      "metadata": {
        "id": "99cae818",
        "outputId": "32d581f2-501f-4b5c-fa3e-b50c05891957",
        "colab": {
          "base_uri": "https://localhost:8080/"
        }
      },
      "outputs": [
        {
          "output_type": "stream",
          "name": "stdout",
          "text": [
            "Resampled shape of X:  (15966, 30)\n",
            "Resampled shape of Y:  (15966,)\n",
            "Counter({0: 7983, 1: 7983})\n"
          ]
        }
      ],
      "source": [
        "# Performing oversampling on RF and DT\n",
        "\n",
        "from imblearn.over_sampling import SMOTE\n",
        "\n",
        "X_resampled, Y_resampled = SMOTE().fit_resample(X, Y)\n",
        "print(\"Resampled shape of X: \", X_resampled.shape)\n",
        "print(\"Resampled shape of Y: \", Y_resampled.shape)\n",
        "\n",
        "value_counts = Counter(Y_resampled)\n",
        "print(value_counts)\n",
        "\n",
        "(train_X, test_X, train_Y, test_Y) = train_test_split(X_resampled, Y_resampled, test_size= 0.3, random_state= 42)"
      ]
    },
    {
      "cell_type": "code",
      "execution_count": null,
      "id": "a6e01a48",
      "metadata": {
        "id": "a6e01a48"
      },
      "outputs": [],
      "source": [
        "# Build the Random Forest classifier on the new dataset\n",
        "\n",
        "rf_resampled = RandomForestClassifier(n_estimators = 100)\n",
        "rf_resampled.fit(train_X, train_Y)\n",
        "\n",
        "predictions_resampled = rf_resampled.predict(test_X)\n",
        "random_forest_score_resampled = rf_resampled.score(test_X, test_Y) * 100"
      ]
    },
    {
      "cell_type": "code",
      "execution_count": null,
      "id": "dfa4b7d8",
      "metadata": {
        "id": "dfa4b7d8",
        "outputId": "ebb9f5d5-9099-4526-ccb5-806bb080a4c5",
        "colab": {
          "base_uri": "https://localhost:8080/"
        }
      },
      "outputs": [
        {
          "output_type": "stream",
          "name": "stdout",
          "text": [
            "Confusion Matrix - Random Forest\n",
            "[[2391    1]\n",
            " [   0 2398]]\n"
          ]
        }
      ],
      "source": [
        "# Visualize the confusion matrix\n",
        "\n",
        "cm_resampled = confusion_matrix(test_Y, predictions_resampled.round())\n",
        "print(\"Confusion Matrix - Random Forest\")\n",
        "print(cm_resampled)"
      ]
    },
    {
      "cell_type": "code",
      "execution_count": null,
      "id": "345c1b9b",
      "metadata": {
        "id": "345c1b9b",
        "outputId": "27c89652-3e47-4fb3-f5e9-68a9795a04a4",
        "colab": {
          "base_uri": "https://localhost:8080/",
          "height": 504
        }
      },
      "outputs": [
        {
          "output_type": "stream",
          "name": "stdout",
          "text": [
            "Confusion matrix, without normalization\n"
          ]
        },
        {
          "output_type": "display_data",
          "data": {
            "text/plain": [
              "<Figure size 640x480 with 2 Axes>"
            ],
            "image/png": "[encoded data removed]"
          },
          "metadata": {}
        }
      ],
      "source": [
        "plot_confusion_matrix(cm_resampled, classes=[0, 1], title= \"Confusion Matrix - Random Forest After Oversampling\")"
      ]
    },
    {
      "cell_type": "code",
      "execution_count": null,
      "id": "ac57001a",
      "metadata": {
        "id": "ac57001a",
        "outputId": "0f29b01e-a8ed-49c2-bbec-49045d6775a5",
        "colab": {
          "base_uri": "https://localhost:8080/"
        }
      },
      "outputs": [
        {
          "output_type": "stream",
          "name": "stdout",
          "text": [
            "Evaluation of Random Forest Model\n",
            "\n",
            "Accuracy: 0.99979\n",
            "Precision: 0.99958\n",
            "Recall: 1.00000\n",
            "F1-score: 0.99979\n"
          ]
        }
      ],
      "source": [
        "print(\"Evaluation of Random Forest Model\")\n",
        "print()\n",
        "metrics(test_Y, predictions_resampled.round())"
      ]
    },
    {
      "cell_type": "markdown",
      "id": "fb9e53fe",
      "metadata": {
        "id": "fb9e53fe"
      },
      "source": [
        "Now it is evident that after addressing the class imbalance problem, our Random forest classifier with SMOTE performs far better than the Random forest classifier without SMOTE"
      ]
    },
    {
      "cell_type": "code",
      "execution_count": null,
      "id": "f12b6940",
      "metadata": {
        "id": "f12b6940"
      },
      "outputs": [],
      "source": [
        " #K-means-Clustering\n",
        "# Import the packages\n",
        "from sklearn.preprocessing import MinMaxScaler\n",
        "from sklearn.cluster import KMeans\n",
        "# Transform and scale your data\n",
        "X = np.array(dataframe).astype(float)\n",
        "scaler = MinMaxScaler()\n",
        "X_scaled = scaler.fit_transform(X)"
      ]
    },
    {
      "cell_type": "code",
      "source": [
        "# Define the k-means model and fit to the data\n",
        "\n",
        "kmeans = KMeans(n_clusters=6, n_init = 10, random_state=123).fit(X_scaled)"
      ],
      "metadata": {
        "id": "CRufQ8B7OB91"
      },
      "id": "CRufQ8B7OB91",
      "execution_count": null,
      "outputs": []
    },
    {
      "cell_type": "code",
      "source": [
        "clust = range(1, 10)\n",
        "kmeans = [KMeans(n_clusters=i, n_init = 10) for i in clust]\n",
        "\n",
        "k_means_score = [kmeans[i].fit(X_scaled).score(X_scaled) for i in range(len(kmeans))]\n",
        "\n",
        "plt.plot(clust,k_means_score)\n",
        "plt.xlabel('Number of Clusters')\n",
        "plt.ylabel('K_Means_Score')\n",
        "plt.title('Elbow Curve')\n",
        "plt.show()"
      ],
      "metadata": {
        "colab": {
          "base_uri": "https://localhost:8080/",
          "height": 472
        },
        "id": "XmWGGJgyN_ZJ",
        "outputId": "c47807a9-7c9b-46a4-d7e9-374d52d22206"
      },
      "id": "XmWGGJgyN_ZJ",
      "execution_count": null,
      "outputs": [
        {
          "output_type": "display_data",
          "data": {
            "text/plain": [
              "<Figure size 640x480 with 1 Axes>"
            ],
            "image/png": "[encoded data removed]"
          },
          "metadata": {}
        }
      ]
    },
    {
      "cell_type": "markdown",
      "source": [
        "**Flagging Fraud Based on Distance to Centroid**"
      ],
      "metadata": {
        "id": "eGXM-B9NUsAJ"
      },
      "id": "eGXM-B9NUsAJ"
    },
    {
      "cell_type": "code",
      "source": [
        "# Run the kmeans model on scaled data\n",
        "kmeans = KMeans(n_clusters=3, n_init = 10, random_state=42).fit(X_scaled)\n",
        "\n",
        "# Get the cluster number for each datapoint\n",
        "X_clusters = kmeans.predict(X_scaled)\n",
        "\n",
        "X_clusters"
      ],
      "metadata": {
        "id": "fcN8H9jmUNDv",
        "colab": {
          "base_uri": "https://localhost:8080/"
        },
        "outputId": "2fd72016-0b76-4f74-8fb0-50eaa130e370"
      },
      "id": "fcN8H9jmUNDv",
      "execution_count": null,
      "outputs": [
        {
          "output_type": "execute_result",
          "data": {
            "text/plain": [
              "array([0, 0, 0, ..., 1, 1, 1], dtype=int32)"
            ]
          },
          "metadata": {},
          "execution_count": 81
        }
      ]
    },
    {
      "cell_type": "code",
      "source": [
        "# Save the cluster centroids\n",
        "X_clusters_centers = kmeans.cluster_centers_\n",
        "\n",
        "# Calculate the distance to the cluster centroid for each point\n",
        "dist = [np.linalg.norm(x-y) for x,y in zip(X_scaled, X_clusters_centers[X_clusters])]\n",
        "\n",
        "# Create predictions based on distance\n",
        "km_y_pred = np.array(dist)\n",
        "km_y_pred[dist>=np.percentile(dist, 93)] = 1\n",
        "km_y_pred[dist<np.percentile(dist, 93)] = 0"
      ],
      "metadata": {
        "id": "IMD6rXd6V8xn"
      },
      "id": "IMD6rXd6V8xn",
      "execution_count": null,
      "outputs": []
    },
    {
      "cell_type": "code",
      "source": [
        "class_0 = X_scaled[X_clusters == 0]\n",
        "\n",
        "class_1 = X_scaled[X_clusters == 1]\n",
        "\n",
        "#Plotting the results\n",
        "plt.scatter(class_0[:,0] , class_0[:,1] , color = 'red')\n",
        "plt.scatter(class_1[:,0] , class_1[:,1] , color = 'blue')\n",
        "plt.scatter(X_clusters_centers[:,0] , X_clusters_centers[:,1] , s = 80, color = 'black')\n",
        "plt.show()"
      ],
      "metadata": {
        "colab": {
          "base_uri": "https://localhost:8080/",
          "height": 357
        },
        "id": "zMWcUOLgVbrN",
        "outputId": "2d0cbd2f-8ab3-4cff-a045-9d575391a9e7"
      },
      "id": "zMWcUOLgVbrN",
      "execution_count": null,
      "outputs": [
        {
          "output_type": "display_data",
          "data": {
            "text/plain": [
              "<Figure size 700x350 with 1 Axes>"
            ],
            "image/png": "[encoded data removed]"
          },
          "metadata": {}
        }
      ]
    },
    {
      "cell_type": "code",
      "source": [
        "def plot_confusion_matrix(cm, classes=['Not Fraud', 'Fraud'],\n",
        "                          normalize=False,\n",
        "                          title='Confusion matrix for Fraud Detection',\n",
        "                          cmap=plt.cm.Blues):\n",
        "    \"\"\"\n",
        "    This function prints and plots the confusion matrix.\n",
        "    Normalization can be applied by setting `normalize=True`.\n",
        "    From:\n",
        "        http://scikit-learn.org/stable/auto_examples/model_selection/plot_confusion_matrix.html#sphx-glr-auto-\n",
        "        examples-model-selection-plot-confusion-matrix-py\n",
        "    \"\"\"\n",
        "    if normalize:\n",
        "        cm = cm.astype('float') / cm.sum(axis=1)[:, np.newaxis]\n",
        "        print(\"Normalized confusion matrix\")\n",
        "    else:\n",
        "        print('Confusion matrix, without normalization')\n",
        "\n",
        "    # print(cm)\n",
        "\n",
        "    plt.imshow(cm, interpolation='nearest', cmap=cmap)\n",
        "    plt.title(title)\n",
        "    plt.colorbar()\n",
        "    tick_marks = np.arange(len(classes))\n",
        "    plt.xticks(tick_marks, classes, rotation=45)\n",
        "    plt.yticks(tick_marks, classes)\n",
        "\n",
        "    fmt = '.2f' if normalize else 'd'\n",
        "    thresh = cm.max() / 2.\n",
        "    for i, j in itertools.product(range(cm.shape[0]), range(cm.shape[1])):\n",
        "        plt.text(j, i, format(cm[i, j], fmt),\n",
        "                 horizontalalignment=\"center\",\n",
        "                 color=\"black\" if cm[i, j] > thresh else \"black\")\n",
        "\n",
        "    plt.tight_layout()\n",
        "    plt.ylabel('True label')\n",
        "    plt.xlabel('Predicted label')\n",
        "    plt.show()"
      ],
      "metadata": {
        "id": "XsuSoZ7dlc-_"
      },
      "id": "XsuSoZ7dlc-_",
      "execution_count": null,
      "outputs": []
    },
    {
      "cell_type": "code",
      "source": [
        "# Create a confusion matrix\n",
        "km_cm = confusion_matrix(X_clusters, km_y_pred)\n",
        "\n",
        "# Plot the confusion matrix in a figure to visualize results\n",
        "plot_confusion_matrix(km_cm)"
      ],
      "metadata": {
        "colab": {
          "base_uri": "https://localhost:8080/",
          "height": 374
        },
        "id": "XWBRBFhJkonl",
        "outputId": "e122d512-2040-4541-8ff3-854d5029f6cd"
      },
      "id": "XWBRBFhJkonl",
      "execution_count": null,
      "outputs": [
        {
          "output_type": "stream",
          "name": "stdout",
          "text": [
            "Confusion matrix, without normalization\n"
          ]
        },
        {
          "output_type": "display_data",
          "data": {
            "text/plain": [
              "<Figure size 700x350 with 2 Axes>"
            ],
            "image/png": "[encoded data removed]"
          },
          "metadata": {}
        }
      ]
    },
    {
      "cell_type": "code",
      "source": [],
      "metadata": {
        "id": "DZdY1InQrBEu"
      },
      "id": "DZdY1InQrBEu",
      "execution_count": null,
      "outputs": []
    }
  ],
  "metadata": {
    "kernelspec": {
      "display_name": "Python 3",
      "language": "python",
      "name": "python3"
    },
    "language_info": {
      "codemirror_mode": {
        "name": "ipython",
        "version": 3
      },
      "file_extension": ".py",
      "mimetype": "text/x-python",
      "name": "python",
      "nbconvert_exporter": "python",
      "pygments_lexer": "ipython3",
      "version": "3.8.0"
    },
    "colab": {
      "provenance": [],
      "include_colab_link": true
    }
  },
  "nbformat": 4,
  "nbformat_minor": 5
}